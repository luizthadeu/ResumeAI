{
  "nbformat": 4,
  "nbformat_minor": 0,
  "metadata": {
    "colab": {
      "provenance": [],
      "authorship_tag": "ABX9TyPBSjMSS1Scw3eZE00StnS8",
      "include_colab_link": true
    },
    "kernelspec": {
      "name": "python3",
      "display_name": "Python 3"
    },
    "language_info": {
      "name": "python"
    }
  },
  "cells": [
    {
      "cell_type": "markdown",
      "metadata": {
        "id": "view-in-github",
        "colab_type": "text"
      },
      "source": [
        "<a href=\"https://colab.research.google.com/github/luizthadeu/ResumeAi/blob/main/ResumeAi.ipynb\" target=\"_parent\"><img src=\"https://colab.research.google.com/assets/colab-badge.svg\" alt=\"Open In Colab\"/></a>"
      ]
    },
    {
      "cell_type": "markdown",
      "source": [
        "Instala a biblioteca ***html2text*** para converter a página HTML em texto simples.**negrito**"
      ],
      "metadata": {
        "id": "cvnFbTgW_NKa"
      }
    },
    {
      "cell_type": "code",
      "source": [
        "!pip install html2text"
      ],
      "metadata": {
        "id": "e3-nn-YY_IiE"
      },
      "execution_count": null,
      "outputs": []
    },
    {
      "cell_type": "markdown",
      "source": [
        "Faz as importações de Bibliotecas"
      ],
      "metadata": {
        "id": "J4QZZkqWLiHD"
      }
    },
    {
      "cell_type": "code",
      "source": [
        "# Biblioteca do Gemini\n",
        "import google.generativeai as genai\n",
        "# Biblioteca para ler o secret\n",
        "from google.colab import userdata\n",
        "# Biblioteca para \"ler\" a URL\n",
        "import requests\n",
        "# Biblioteca que convert o HTML em texto Markdown\n",
        "import html2text\n"
      ],
      "metadata": {
        "id": "SXpIxh21LheJ"
      },
      "execution_count": 6,
      "outputs": []
    },
    {
      "cell_type": "markdown",
      "source": [
        "Método para realizar o resumo.\n",
        "Ele recebe o texto completo, e aciona o Gemini para realizar o resumo."
      ],
      "metadata": {
        "id": "mBpyJP5zN7cT"
      }
    },
    {
      "cell_type": "code",
      "source": [
        "def resumeAi(texto_para_resumir:str):\n",
        "  texto_resumido = ''\n",
        "\n",
        "  return texto_resumido"
      ],
      "metadata": {
        "id": "yOX0vlrKN7Lm"
      },
      "execution_count": null,
      "outputs": []
    },
    {
      "cell_type": "code",
      "execution_count": null,
      "metadata": {
        "id": "T6nPArIV93hW"
      },
      "outputs": [],
      "source": [
        "# Carrega a secret\n",
        "GOOGLE_API_KEY=userdata.get('GOOGLE_API_KEY')\n",
        "\n",
        "\n",
        "# Define a URL que o Gemini vai ler e resumir\n",
        "url = 'https://pt.wikipedia.org/wiki/Intelig%C3%AAncia_artificial'\n",
        "\n",
        "# Faz uma requisição GET para a URL especificada e armazena a resposta na variável 'resposta'\n",
        "resposta = requests.get(url);\n",
        "\n",
        "# Caso a resposta for 200 (OK) ele executa o resumo.\n",
        "if resposta.status_code == 200:\n",
        "  print('Opa achei aqui, estou lendo para resumir!')\n",
        "  texto_completo = html2text.html2text(resposta.text)\n",
        "  texto_resumido = resumeAi(texto_completo)\n",
        "# Caso contrário ele avisa que não conseguiu \"Ler a Página\"\n",
        "else:\n",
        "  print(f'Vish, não conseguir ler, olha o código que eu recebi: {resposta.status_code}')\n",
        "\n",
        "\n"
      ]
    },
    {
      "cell_type": "code",
      "source": [],
      "metadata": {
        "id": "OSqSN8zpJ_IZ"
      },
      "execution_count": null,
      "outputs": []
    }
  ]
}