{
  "nbformat": 4,
  "nbformat_minor": 0,
  "metadata": {
    "colab": {
      "provenance": [],
      "authorship_tag": "ABX9TyMRXpUOQLIOu+a8Qe6yIbJg",
      "include_colab_link": true
    },
    "kernelspec": {
      "name": "python3",
      "display_name": "Python 3"
    },
    "language_info": {
      "name": "python"
    }
  },
  "cells": [
    {
      "cell_type": "markdown",
      "metadata": {
        "id": "view-in-github",
        "colab_type": "text"
      },
      "source": [
        "<a href=\"https://colab.research.google.com/github/luizthadeu/ResumeAi/blob/main/ResumeAi.ipynb\" target=\"_parent\"><img src=\"https://colab.research.google.com/assets/colab-badge.svg\" alt=\"Open In Colab\"/></a>"
      ]
    },
    {
      "cell_type": "markdown",
      "source": [
        "Instala a biblioteca ***html2text*** para converter a página HTML em texto simples.**negrito**"
      ],
      "metadata": {
        "id": "cvnFbTgW_NKa"
      }
    },
    {
      "cell_type": "markdown",
      "source": [
        "Faz as importações de Bibliotecas"
      ],
      "metadata": {
        "id": "J4QZZkqWLiHD"
      }
    },
    {
      "cell_type": "code",
      "source": [
        "# Biblioteca do Gemini\n",
        "import google.generativeai as genai\n",
        "# Biblioteca para ler o secret\n",
        "from google.colab import userdata\n",
        "# Biblioteca para \"ler\" a URL\n",
        "import requests\n",
        "\n",
        "#Melhorando a visualização\n",
        "#Código disponível em https://ai.google.dev/tutorials/python_quickstart#import_packages\n",
        "import textwrap\n",
        "from IPython.display import display\n",
        "from IPython.display import Markdown"
      ],
      "metadata": {
        "id": "SXpIxh21LheJ"
      },
      "execution_count": 48,
      "outputs": []
    },
    {
      "cell_type": "markdown",
      "source": [
        "Método para configurar o Gemini para realizar o Resumo"
      ],
      "metadata": {
        "id": "RKzpIlsXQjUz"
      }
    },
    {
      "cell_type": "code",
      "source": [
        "def configuraGemini():\n",
        "  #Carrega a secret\n",
        "  GOOGLE_API_KEY=userdata.get('GOOGLE-API-KEY')\n",
        "\n",
        "  generation_config = {\n",
        "    \"temperature\": 0.1\n",
        "  }\n",
        "  genai.configure(api_key=GOOGLE_API_KEY)\n",
        "  model = genai.GenerativeModel(\"gemini-1.0-pro\",\n",
        "                                generation_config=generation_config)\n",
        "  return model"
      ],
      "metadata": {
        "id": "KDHdf5ccQi_-"
      },
      "execution_count": 43,
      "outputs": []
    },
    {
      "cell_type": "markdown",
      "source": [
        "Método para realizar o resumo.\n",
        "Ele recebe o texto completo, e aciona o Gemini para realizar o resumo."
      ],
      "metadata": {
        "id": "mBpyJP5zN7cT"
      }
    },
    {
      "cell_type": "code",
      "source": [
        "def resumeAI(url:str):\n",
        "  texto_resumido = ''\n",
        "  gemini = configuraGemini()\n",
        "  instrucao = 'Faça um resumo de 500 caracteres, seja descontraido e bem humorado, desta página: '\n",
        "  response = gemini.generate_content(f'{instrucao}\\n{url}')\n",
        "  texto_resumido = response.text\n",
        "  return texto_resumido"
      ],
      "metadata": {
        "id": "yOX0vlrKN7Lm"
      },
      "execution_count": 36,
      "outputs": []
    },
    {
      "cell_type": "markdown",
      "source": [
        "Método para imprimir Bonitinho 😊"
      ],
      "metadata": {
        "id": "-nroZ8sTfbiU"
      }
    },
    {
      "cell_type": "code",
      "source": [
        "def to_markdown(text):\n",
        "  text = text.replace('•', '  *')\n",
        "  return Markdown(textwrap.indent(text, '> ', predicate=lambda _: True))\n",
        "\n",
        "#Imprimindo\n",
        "def printBunitinho(texto_para_mostrar):\n",
        "  display(to_markdown(f'{texto_para_mostrar}'))"
      ],
      "metadata": {
        "id": "AKYOs6fIfhcH"
      },
      "execution_count": 46,
      "outputs": []
    },
    {
      "cell_type": "markdown",
      "source": [
        "Método que verifica se a url é Válida e Chama o ResumeAI"
      ],
      "metadata": {
        "id": "7aCb6t8ehubO"
      }
    },
    {
      "cell_type": "code",
      "execution_count": 66,
      "metadata": {
        "id": "T6nPArIV93hW"
      },
      "outputs": [],
      "source": [
        "\n",
        "\n",
        "def interpretaPrompt(url:str):\n",
        "  # Define a URL que o Gemini vai ler e resumir\n",
        "  # url = 'https://pt.wikipedia.org/wiki/Intelig%C3%AAncia_artificial'\n",
        "\n",
        "\n",
        "  try:\n",
        "    #Verifica se a página tem o http ou https no começo\n",
        "    if url.startswith('http') == False:\n",
        "      url = f'https://{url}'\n",
        "\n",
        "    # Faz uma requisição GET para a URL especificada e armazena a resposta na variável 'resposta'\n",
        "    resposta = requests.get(url);\n",
        "\n",
        "    # Caso a resposta for 200 (OK) ele executa o resumo.\n",
        "    if resposta.status_code == 200:\n",
        "      print(f'Opa achei aqui 😃, estou lendo a página: {url} \\n')\n",
        "      texto_resumido = resumeAI(url)\n",
        "      printBunitinho(texto_resumido)\n",
        "    # Caso contrário ele avisa que não conseguiu \"Ler a Página\"\n",
        "    else:\n",
        "      print(f'Vish, não conseguir ler, olha o código que eu recebi: {resposta.status_code}')\n",
        "  except Exception as erro:\n",
        "    print(f'Desculpe, mas aconteceu um erro. 🥶 \\n {erro}')\n",
        "\n"
      ]
    },
    {
      "cell_type": "markdown",
      "source": [
        "Execução em loop para os resumos"
      ],
      "metadata": {
        "id": "kHjQzZUhh2IH"
      }
    },
    {
      "cell_type": "code",
      "source": [
        "mensagem_prompt = 'Qual página você quer resumir? [digite FIM para terminar]: \\n'\n",
        "url = input(mensagem_prompt)\n",
        "\n",
        "while url.lower().strip() != 'fim':\n",
        "  interpretaPrompt(url.lower().strip())\n",
        "  url = input(f'\\n{mensagem_prompt}')\n",
        "\n",
        "print('\\n Obrigado por usar o ResumeAI')"
      ],
      "metadata": {
        "colab": {
          "base_uri": "https://localhost:8080/",
          "height": 374
        },
        "id": "MGMQsXG7h5kb",
        "outputId": "4c13a229-4db1-4e02-8ead-99f9937aba97"
      },
      "execution_count": null,
      "outputs": [
        {
          "output_type": "stream",
          "name": "stdout",
          "text": [
            "Qual página você quer resumir? [digite FIM para terminar]: \n",
            "google.com\n",
            "Opa achei aqui 😃, estou lendo a página: https://google.com \n",
            "\n"
          ]
        },
        {
          "output_type": "display_data",
          "data": {
            "text/plain": [
              "<IPython.core.display.Markdown object>"
            ],
            "text/markdown": "> Bem-vindo ao Google, o lugar onde você pode encontrar tudo o que seu coraçãozinho curioso deseja!\n> \n> É como uma biblioteca gigante, mas com muito mais diversão. Você pode pesquisar qualquer coisa, desde \"como fazer um bolo\" até \"por que os gatos ronronam\". E o melhor de tudo? É grátis!\n> \n> Mas não é só isso. O Google também é um ótimo lugar para se perder. Você pode passar horas explorando seus mapas, assistindo a vídeos de gatos e lendo artigos sobre coisas aleatórias como \"por que o céu é azul\".\n> \n> E se você estiver se sentindo criativo, pode até criar seu próprio site ou blog usando o Google Sites. É como ter sua própria fatia da internet, sem precisar aprender nenhum código complicado.\n> \n> Então, o que você está esperando? Venha explorar o Google hoje! É como um parque de diversões para sua mente, onde você pode aprender, rir e se divertir.\n> \n> Só não se esqueça de tomar cuidado com os buracos de coelho. Eles podem ser muito viciantes!"
          },
          "metadata": {}
        }
      ]
    }
  ]
}